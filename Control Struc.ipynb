{
 "cells": [
  {
   "cell_type": "markdown",
   "metadata": {},
   "source": [
    "# if - elif - else"
   ]
  },
  {
   "cell_type": "code",
   "execution_count": 1,
   "metadata": {},
   "outputs": [
    {
     "name": "stdout",
     "output_type": "stream",
     "text": [
      "10\n"
     ]
    }
   ],
   "source": [
    "x = 10\n",
    "if x%2 == 0 :\n",
    "    print(x)"
   ]
  },
  {
   "cell_type": "code",
   "execution_count": 2,
   "metadata": {},
   "outputs": [],
   "source": [
    "x = 10\n"
   ]
  },
  {
   "cell_type": "code",
   "execution_count": 3,
   "metadata": {},
   "outputs": [
    {
     "data": {
      "text/plain": [
       "10"
      ]
     },
     "execution_count": 3,
     "metadata": {},
     "output_type": "execute_result"
    }
   ],
   "source": [
    "x"
   ]
  },
  {
   "cell_type": "code",
   "execution_count": 5,
   "metadata": {},
   "outputs": [
    {
     "data": {
      "text/plain": [
       "False"
      ]
     },
     "execution_count": 5,
     "metadata": {},
     "output_type": "execute_result"
    }
   ],
   "source": [
    "x == 11"
   ]
  },
  {
   "cell_type": "code",
   "execution_count": 12,
   "metadata": {},
   "outputs": [],
   "source": [
    "x = 10    # assigning 10 into x \n",
    "y = x % 2 # remainder \n",
    "z = (y == 1)"
   ]
  },
  {
   "cell_type": "code",
   "execution_count": 13,
   "metadata": {},
   "outputs": [
    {
     "data": {
      "text/plain": [
       "0"
      ]
     },
     "execution_count": 13,
     "metadata": {},
     "output_type": "execute_result"
    }
   ],
   "source": [
    "y"
   ]
  },
  {
   "cell_type": "code",
   "execution_count": 14,
   "metadata": {},
   "outputs": [
    {
     "data": {
      "text/plain": [
       "False"
      ]
     },
     "execution_count": 14,
     "metadata": {},
     "output_type": "execute_result"
    }
   ],
   "source": [
    "z"
   ]
  },
  {
   "cell_type": "code",
   "execution_count": 15,
   "metadata": {},
   "outputs": [],
   "source": [
    "if z:\n",
    "    print(x)"
   ]
  },
  {
   "cell_type": "code",
   "execution_count": 24,
   "metadata": {},
   "outputs": [
    {
     "name": "stdout",
     "output_type": "stream",
     "text": [
      "Enter a number : 1\n",
      "Input a 4 digit number..\n",
      "you have 3 trial(s) left\n",
      "Enter a number : 21\n",
      "Input a 4 digit number..\n",
      "you have 2 trial(s) left\n",
      "Enter a number : 12\n",
      "Input a 4 digit number..\n",
      "you have 1 trial(s) left\n",
      "Enter a number : 1\n",
      "Input a 4 digit number..\n",
      "you have 0 trial(s) left\n",
      "Exiting....\n"
     ]
    }
   ],
   "source": [
    "c = 4 # counter var\n",
    "while c > 0:\n",
    "    x = int( input('Enter a number : ') )\n",
    "    if x >= 1000 and x <= 9999:\n",
    "        if x % 2 == 0:\n",
    "            print(x)\n",
    "        else:\n",
    "            x = x+1\n",
    "            print(x)\n",
    "    else:\n",
    "        print('Input a 4 digit number..')\n",
    "        print(f'you have {c-1} trial(s) left')\n",
    "        c-=1    #dec c by 1\n",
    "print('Exiting....')"
   ]
  },
  {
   "cell_type": "markdown",
   "metadata": {},
   "source": [
    "# Reverse Engineer this..."
   ]
  },
  {
   "cell_type": "code",
   "execution_count": null,
   "metadata": {},
   "outputs": [],
   "source": [
    "credntial = [\n",
    "    {'uname': 'rishi', 'pass': 'pass1'},\n",
    "    {'uname': 'ben', 'pass': 'passb'},\n",
    "    {'uname': 'abd', 'pass': 'passa'}\n",
    "]\n",
    "\n",
    "trial = 4\n",
    "\n",
    "while trial > 0:\n",
    "    uname = input('enter username :')\n",
    "    passwd = input('enter password:')\n",
    "\n",
    "    fail = False   # Home Task (Flag)\n",
    "\n",
    "    for u in credntial: #Home task\n",
    "        if uname == u['uname']:\n",
    "            if passwd == u['pass']:\n",
    "                print('login successful...')\n",
    "                fail =False\n",
    "            else:\n",
    "                fail = True\n",
    "        else:\n",
    "            fail = True\n",
    "            \n",
    "    if fail:\n",
    "        print('login error')\n",
    "        trial -= 1\n",
    "        print(f\"you've {trial} trial(s) left\")"
   ]
  },
  {
   "cell_type": "code",
   "execution_count": null,
   "metadata": {},
   "outputs": [],
   "source": []
  }
 ],
 "metadata": {
  "kernelspec": {
   "display_name": "Python 3",
   "language": "python",
   "name": "python3"
  },
  "language_info": {
   "codemirror_mode": {
    "name": "ipython",
    "version": 3
   },
   "file_extension": ".py",
   "mimetype": "text/x-python",
   "name": "python",
   "nbconvert_exporter": "python",
   "pygments_lexer": "ipython3",
   "version": "3.7.6"
  }
 },
 "nbformat": 4,
 "nbformat_minor": 4
}
