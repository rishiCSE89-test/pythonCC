{
 "cells": [
  {
   "cell_type": "markdown",
   "metadata": {},
   "source": [
    "# Heading\n",
    "## Section \n",
    "### Sub-section\n",
    "#### sub-sub section\n",
    "this is a test"
   ]
  },
  {
   "cell_type": "markdown",
   "metadata": {},
   "source": [
    "# Power using loop\n",
    "\n",
    "this is a test sentance with a code-word `while` "
   ]
  },
  {
   "cell_type": "code",
   "execution_count": 13,
   "metadata": {},
   "outputs": [
    {
     "name": "stdout",
     "output_type": "stream",
     "text": [
      "result \t a \t b \t i \t Cond\n",
      "------ \t --- \t --- \t --- \t ----\n",
      "1 \t 2 \t 11 \t 0 \t True\n",
      "2 \t 2 \t 11 \t 1 \t True\n",
      "4 \t 2 \t 11 \t 2 \t True\n",
      "8 \t 2 \t 11 \t 3 \t True\n",
      "16 \t 2 \t 11 \t 4 \t True\n",
      "32 \t 2 \t 11 \t 5 \t True\n",
      "64 \t 2 \t 11 \t 6 \t True\n",
      "128 \t 2 \t 11 \t 7 \t True\n",
      "256 \t 2 \t 11 \t 8 \t True\n",
      "512 \t 2 \t 11 \t 9 \t True\n",
      "1024 \t 2 \t 11 \t 10 \t True\n",
      "2048\n"
     ]
    }
   ],
   "source": [
    "result = 1 \n",
    "a = 2\n",
    "b = 11\n",
    "\n",
    "i=0\n",
    "\n",
    "print('result \\t a \\t b \\t i \\t Cond')\n",
    "print('------ \\t --- \\t --- \\t --- \\t ----')\n",
    "\n",
    "while i < b:\n",
    "    print(f'{result} \\t {a} \\t {b} \\t {i} \\t {i < b}')\n",
    "    result *= a\n",
    "    i += 1\n",
    "\n",
    "print(result) "
   ]
  },
  {
   "cell_type": "code",
   "execution_count": 14,
   "metadata": {},
   "outputs": [
    {
     "data": {
      "text/plain": [
       "2048"
      ]
     },
     "execution_count": 14,
     "metadata": {},
     "output_type": "execute_result"
    }
   ],
   "source": [
    "pow(2,11)"
   ]
  },
  {
   "cell_type": "code",
   "execution_count": 16,
   "metadata": {},
   "outputs": [
    {
     "data": {
      "text/plain": [
       "2048"
      ]
     },
     "execution_count": 16,
     "metadata": {},
     "output_type": "execute_result"
    }
   ],
   "source": [
    "2 ** 11"
   ]
  },
  {
   "cell_type": "markdown",
   "metadata": {},
   "source": [
    "# Product using Loop"
   ]
  },
  {
   "cell_type": "code",
   "execution_count": 10,
   "metadata": {},
   "outputs": [
    {
     "name": "stdout",
     "output_type": "stream",
     "text": [
      "result \t a \t b \t i \t Cond\n",
      "------ \t --- \t --- \t --- \t ----\n",
      "0 \t 20 \t 6 \t 0 \t True\n",
      "20 \t 20 \t 6 \t 1 \t True\n",
      "40 \t 20 \t 6 \t 2 \t True\n",
      "60 \t 20 \t 6 \t 3 \t True\n",
      "80 \t 20 \t 6 \t 4 \t True\n",
      "100 \t 20 \t 6 \t 5 \t True\n",
      "120\n"
     ]
    }
   ],
   "source": [
    "result = 0 \n",
    "a = 20\n",
    "b = 6\n",
    "\n",
    "i=0\n",
    "\n",
    "print('result \\t a \\t b \\t i \\t Cond')\n",
    "print('------ \\t --- \\t --- \\t --- \\t ----')\n",
    "\n",
    "while i < b:\n",
    "    print(f'{result} \\t {a} \\t {b} \\t {i} \\t {i < b}')\n",
    "    result += a\n",
    "    i += 1\n",
    "    \n",
    "print(result)"
   ]
  },
  {
   "cell_type": "markdown",
   "metadata": {},
   "source": [
    "# Calculator function\n",
    "this takes 3 inputs, `a,b,opt`.\n",
    "* __`a`__:_first operand_ \n",
    "* __`b`__:_Second operand_\n",
    "* __`opt`__: _the operation_\n",
    "    1. __`add`__: _for addition_\n",
    "    2. __`sub`__: _for subtraction_\n",
    "    3. __`mul`__: _for multiplication_\n",
    "    4. __`div`__: _for division_\n",
    "    5. __`mod`__: _for remeinder_ \n",
    "    6. __`pwr`__: _for power_\n",
    "    \n",
    "this is a ___bold italic___ line"
   ]
  },
  {
   "cell_type": "code",
   "execution_count": 47,
   "metadata": {},
   "outputs": [],
   "source": [
    "def calculator(a, b, opt):\n",
    "    '''\n",
    "    this is a sample calculator function\n",
    "    Inputs : a,b as numbers and opt as string \n",
    "        opt: possible values: 'add','sub','mul','div','mod'\n",
    "    '''\n",
    "    if (isinstance(a,int) or isinstance(a,float)) and (isinstance(b,int) or isinstance(b,float)):\n",
    "        if opt == 'add':\n",
    "            return a+b\n",
    "        elif opt == 'sub':\n",
    "            return a-b\n",
    "        elif opt == 'mul':\n",
    "            return a*b\n",
    "        elif opt == 'div':\n",
    "            return a/b\n",
    "        elif opt == 'mod':\n",
    "            return a%b\n",
    "        elif opt == 'pwr':\n",
    "            return a ** b\n",
    "        else:\n",
    "            print('Error : Unexpected Operator')\n",
    "    else:\n",
    "        print('Error : Unexpected Operands')\n"
   ]
  },
  {
   "cell_type": "code",
   "execution_count": 45,
   "metadata": {},
   "outputs": [
    {
     "name": "stdout",
     "output_type": "stream",
     "text": [
      "Error : Unexpected Operands\n"
     ]
    }
   ],
   "source": [
    "calculator('5',6,'add')"
   ]
  },
  {
   "cell_type": "code",
   "execution_count": 48,
   "metadata": {},
   "outputs": [
    {
     "data": {
      "text/plain": [
       "32.5"
      ]
     },
     "execution_count": 48,
     "metadata": {},
     "output_type": "execute_result"
    }
   ],
   "source": [
    "calculator(5,6.5,'mul')"
   ]
  },
  {
   "cell_type": "code",
   "execution_count": 25,
   "metadata": {},
   "outputs": [
    {
     "ename": "TypeError",
     "evalue": "can only concatenate str (not \"int\") to str",
     "output_type": "error",
     "traceback": [
      "\u001b[1;31m---------------------------------------------------------------------------\u001b[0m",
      "\u001b[1;31mTypeError\u001b[0m                                 Traceback (most recent call last)",
      "\u001b[1;32m<ipython-input-25-7d7be7389ba7>\u001b[0m in \u001b[0;36m<module>\u001b[1;34m\u001b[0m\n\u001b[1;32m----> 1\u001b[1;33m \u001b[0mcalculator\u001b[0m\u001b[1;33m(\u001b[0m\u001b[1;34m'a'\u001b[0m\u001b[1;33m,\u001b[0m\u001b[1;36m6\u001b[0m\u001b[1;33m,\u001b[0m\u001b[1;34m'add'\u001b[0m\u001b[1;33m)\u001b[0m\u001b[1;33m\u001b[0m\u001b[1;33m\u001b[0m\u001b[0m\n\u001b[0m",
      "\u001b[1;32m<ipython-input-23-dd375db2a279>\u001b[0m in \u001b[0;36mcalculator\u001b[1;34m(a, b, opt)\u001b[0m\n\u001b[0;32m      6\u001b[0m     '''\n\u001b[0;32m      7\u001b[0m     \u001b[1;32mif\u001b[0m \u001b[0mopt\u001b[0m \u001b[1;33m==\u001b[0m \u001b[1;34m'add'\u001b[0m\u001b[1;33m:\u001b[0m\u001b[1;33m\u001b[0m\u001b[1;33m\u001b[0m\u001b[0m\n\u001b[1;32m----> 8\u001b[1;33m         \u001b[1;32mreturn\u001b[0m \u001b[0ma\u001b[0m\u001b[1;33m+\u001b[0m\u001b[0mb\u001b[0m\u001b[1;33m\u001b[0m\u001b[1;33m\u001b[0m\u001b[0m\n\u001b[0m\u001b[0;32m      9\u001b[0m     \u001b[1;32melif\u001b[0m \u001b[0mopt\u001b[0m \u001b[1;33m==\u001b[0m \u001b[1;34m'sub'\u001b[0m\u001b[1;33m:\u001b[0m\u001b[1;33m\u001b[0m\u001b[1;33m\u001b[0m\u001b[0m\n\u001b[0;32m     10\u001b[0m         \u001b[1;32mreturn\u001b[0m \u001b[0ma\u001b[0m\u001b[1;33m-\u001b[0m\u001b[0mb\u001b[0m\u001b[1;33m\u001b[0m\u001b[1;33m\u001b[0m\u001b[0m\n",
      "\u001b[1;31mTypeError\u001b[0m: can only concatenate str (not \"int\") to str"
     ]
    }
   ],
   "source": [
    "calculator('a',6,'add')"
   ]
  },
  {
   "cell_type": "markdown",
   "metadata": {},
   "source": [
    "## Dynamic typed example"
   ]
  },
  {
   "cell_type": "code",
   "execution_count": 26,
   "metadata": {},
   "outputs": [
    {
     "data": {
      "text/plain": [
       "int"
      ]
     },
     "execution_count": 26,
     "metadata": {},
     "output_type": "execute_result"
    }
   ],
   "source": [
    "a = 5\n",
    "type(a)"
   ]
  },
  {
   "cell_type": "code",
   "execution_count": 27,
   "metadata": {},
   "outputs": [
    {
     "data": {
      "text/plain": [
       "float"
      ]
     },
     "execution_count": 27,
     "metadata": {},
     "output_type": "execute_result"
    }
   ],
   "source": [
    "a = 5.5\n",
    "type(a)"
   ]
  },
  {
   "cell_type": "code",
   "execution_count": 28,
   "metadata": {},
   "outputs": [
    {
     "data": {
      "text/plain": [
       "str"
      ]
     },
     "execution_count": 28,
     "metadata": {},
     "output_type": "execute_result"
    }
   ],
   "source": [
    "a = '5.5'\n",
    "type(a)"
   ]
  },
  {
   "cell_type": "code",
   "execution_count": 37,
   "metadata": {},
   "outputs": [],
   "source": [
    "a = 5 "
   ]
  },
  {
   "cell_type": "code",
   "execution_count": 42,
   "metadata": {},
   "outputs": [
    {
     "data": {
      "text/plain": [
       "True"
      ]
     },
     "execution_count": 42,
     "metadata": {},
     "output_type": "execute_result"
    }
   ],
   "source": [
    "isinstance(a,int)"
   ]
  },
  {
   "cell_type": "code",
   "execution_count": null,
   "metadata": {},
   "outputs": [],
   "source": []
  }
 ],
 "metadata": {
  "kernelspec": {
   "display_name": "Python 3",
   "language": "python",
   "name": "python3"
  },
  "language_info": {
   "codemirror_mode": {
    "name": "ipython",
    "version": 3
   },
   "file_extension": ".py",
   "mimetype": "text/x-python",
   "name": "python",
   "nbconvert_exporter": "python",
   "pygments_lexer": "ipython3",
   "version": "3.7.6"
  }
 },
 "nbformat": 4,
 "nbformat_minor": 4
}
